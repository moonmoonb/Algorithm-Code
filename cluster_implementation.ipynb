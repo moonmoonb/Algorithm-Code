{
 "cells": [
  {
   "cell_type": "code",
   "execution_count": 34,
   "id": "41bc4f01",
   "metadata": {},
   "outputs": [],
   "source": [
    "# Task 1: Select 5 different city names from this file. Write code that will identify all city names that are similar to an input, and run this code against each of the 5 different city names you have chosen."
   ]
  },
  {
   "cell_type": "code",
   "execution_count": 3,
   "id": "c9151ed6",
   "metadata": {},
   "outputs": [
    {
     "data": {
      "text/html": [
       "<div>\n",
       "<style scoped>\n",
       "    .dataframe tbody tr th:only-of-type {\n",
       "        vertical-align: middle;\n",
       "    }\n",
       "\n",
       "    .dataframe tbody tr th {\n",
       "        vertical-align: top;\n",
       "    }\n",
       "\n",
       "    .dataframe thead th {\n",
       "        text-align: right;\n",
       "    }\n",
       "</style>\n",
       "<table border=\"1\" class=\"dataframe\">\n",
       "  <thead>\n",
       "    <tr style=\"text-align: right;\">\n",
       "      <th></th>\n",
       "      <th>Data</th>\n",
       "    </tr>\n",
       "  </thead>\n",
       "  <tbody>\n",
       "    <tr>\n",
       "      <th>0</th>\n",
       "      <td>Abaquerque</td>\n",
       "    </tr>\n",
       "    <tr>\n",
       "      <th>1</th>\n",
       "      <td>Abbevile</td>\n",
       "    </tr>\n",
       "    <tr>\n",
       "      <th>2</th>\n",
       "      <td>Abbeville</td>\n",
       "    </tr>\n",
       "    <tr>\n",
       "      <th>3</th>\n",
       "      <td>Abeville</td>\n",
       "    </tr>\n",
       "    <tr>\n",
       "      <th>4</th>\n",
       "      <td>Abilene</td>\n",
       "    </tr>\n",
       "    <tr>\n",
       "      <th>...</th>\n",
       "      <td>...</td>\n",
       "    </tr>\n",
       "    <tr>\n",
       "      <th>1666</th>\n",
       "      <td>Yuma</td>\n",
       "    </tr>\n",
       "    <tr>\n",
       "      <th>1667</th>\n",
       "      <td>Yunkers</td>\n",
       "    </tr>\n",
       "    <tr>\n",
       "      <th>1668</th>\n",
       "      <td>Yurba Linda</td>\n",
       "    </tr>\n",
       "    <tr>\n",
       "      <th>1669</th>\n",
       "      <td>Zanesvile</td>\n",
       "    </tr>\n",
       "    <tr>\n",
       "      <th>1670</th>\n",
       "      <td>Zanesville</td>\n",
       "    </tr>\n",
       "  </tbody>\n",
       "</table>\n",
       "<p>1671 rows × 1 columns</p>\n",
       "</div>"
      ],
      "text/plain": [
       "             Data\n",
       "0      Abaquerque\n",
       "1        Abbevile\n",
       "2       Abbeville\n",
       "3        Abeville\n",
       "4         Abilene\n",
       "...           ...\n",
       "1666         Yuma\n",
       "1667      Yunkers\n",
       "1668  Yurba Linda\n",
       "1669    Zanesvile\n",
       "1670   Zanesville\n",
       "\n",
       "[1671 rows x 1 columns]"
      ]
     },
     "execution_count": 3,
     "metadata": {},
     "output_type": "execute_result"
    }
   ],
   "source": [
    "import pandas as pd\n",
    "import numpy as np\n",
    "from Levenshtein import distance as lev\n",
    "data = pd.read_csv(\"CS688_Misspelled_City_Names.csv\")\n",
    "data"
   ]
  },
  {
   "cell_type": "code",
   "execution_count": 18,
   "id": "cee75ab7",
   "metadata": {},
   "outputs": [
    {
     "data": {
      "text/plain": [
       "'Abaquerque'"
      ]
     },
     "execution_count": 18,
     "metadata": {},
     "output_type": "execute_result"
    }
   ],
   "source": [
    "# data[\"Data\"][0]"
   ]
  },
  {
   "cell_type": "code",
   "execution_count": 20,
   "id": "b1f2c9aa",
   "metadata": {},
   "outputs": [
    {
     "data": {
      "text/plain": [
       "1671"
      ]
     },
     "execution_count": 20,
     "metadata": {},
     "output_type": "execute_result"
    }
   ],
   "source": [
    "# data[\"Data\"].count()"
   ]
  },
  {
   "cell_type": "code",
   "execution_count": 18,
   "id": "759c5e3d",
   "metadata": {},
   "outputs": [],
   "source": [
    "def similarName_Levenshtein(name):\n",
    "    my_list = []\n",
    "    for i in range(0, data[\"Data\"].count()):\n",
    "        if lev(name, data[\"Data\"][i]) == 0:\n",
    "            continue\n",
    "        if lev(name, data[\"Data\"][i]) <= 2:\n",
    "            my_list.append(data[\"Data\"][i])\n",
    "    return my_list"
   ]
  },
  {
   "cell_type": "code",
   "execution_count": 19,
   "id": "6d84d0ec",
   "metadata": {},
   "outputs": [
    {
     "name": "stdout",
     "output_type": "stream",
     "text": [
      "The word Berlin have misspelled version of ['Berlen', 'Burlin', 'Kerwin']\n",
      "The word Cleveland have misspelled version of ['Clevland']\n",
      "The word Houston have misspelled version of ['Boston', 'Hoston', 'Houstin', 'Huoston', 'Huston']\n",
      "The word Phoenix have misspelled version of ['Phenix', 'Pheonix']\n",
      "The word Oakland have misspelled version of ['Daland', 'Okeland', 'Rokland']\n"
     ]
    }
   ],
   "source": [
    "cities = ['Berlin', 'Cleveland', 'Houston', 'Phoenix', 'Oakland']\n",
    "for i in cities:\n",
    "    list = []\n",
    "    print(\"The word\", i, \"have misspelled version of\", similarName_Levenshtein(i))"
   ]
  },
  {
   "cell_type": "code",
   "execution_count": 20,
   "id": "9defa6d5",
   "metadata": {},
   "outputs": [
    {
     "name": "stdout",
     "output_type": "stream",
     "text": [
      "The word Berlin have misspelled version of ['Berlen', 'Burlin']\n",
      "The word Cleveland have misspelled version of ['Clevland']\n",
      "The word Houston have misspelled version of ['Hoston', 'Houstin', 'Huston']\n",
      "The word Phoenix have misspelled version of ['Phenix']\n",
      "The word Oakland have misspelled version of []\n"
     ]
    }
   ],
   "source": [
    "def similarName_Levenshtein_2(name):\n",
    "    my_list = []\n",
    "    for i in range(0, data[\"Data\"].count()):\n",
    "        if lev(name, data[\"Data\"][i]) == 0:\n",
    "            continue\n",
    "        if lev(name, data[\"Data\"][i]) <= 1:\n",
    "            my_list.append(data[\"Data\"][i])\n",
    "    return my_list\n",
    "\n",
    "for i in cities:\n",
    "    list = []\n",
    "    print(\"The word\", i, \"have misspelled version of\", similarName_Levenshtein_2(i))"
   ]
  },
  {
   "cell_type": "code",
   "execution_count": 1,
   "id": "c770f634",
   "metadata": {},
   "outputs": [],
   "source": [
    "# Task 2: Feature Engineering "
   ]
  },
  {
   "cell_type": "code",
   "execution_count": 22,
   "id": "2f54ec87",
   "metadata": {},
   "outputs": [],
   "source": [
    "import statsmodels.api as sm\n",
    "import pandas as pd\n",
    "from sklearn.linear_model import LinearRegression\n",
    "from mlxtend.feature_selection import SequentialFeatureSelector as sfs"
   ]
  },
  {
   "cell_type": "code",
   "execution_count": null,
   "id": "b858b508",
   "metadata": {},
   "outputs": [],
   "source": [
    "# load the data"
   ]
  },
  {
   "cell_type": "code",
   "execution_count": 101,
   "id": "c4236d7e",
   "metadata": {},
   "outputs": [
    {
     "data": {
      "text/html": [
       "<div>\n",
       "<style scoped>\n",
       "    .dataframe tbody tr th:only-of-type {\n",
       "        vertical-align: middle;\n",
       "    }\n",
       "\n",
       "    .dataframe tbody tr th {\n",
       "        vertical-align: top;\n",
       "    }\n",
       "\n",
       "    .dataframe thead th {\n",
       "        text-align: right;\n",
       "    }\n",
       "</style>\n",
       "<table border=\"1\" class=\"dataframe\">\n",
       "  <thead>\n",
       "    <tr style=\"text-align: right;\">\n",
       "      <th></th>\n",
       "      <th>area_A</th>\n",
       "      <th>perimeter_P</th>\n",
       "      <th>compactness_C</th>\n",
       "      <th>length_of_kernel</th>\n",
       "      <th>width_of_kernel</th>\n",
       "      <th>asymmetry_coefficient</th>\n",
       "      <th>length_of_kernel_groove</th>\n",
       "      <th>classification</th>\n",
       "    </tr>\n",
       "  </thead>\n",
       "  <tbody>\n",
       "    <tr>\n",
       "      <th>0</th>\n",
       "      <td>15.26</td>\n",
       "      <td>14.84</td>\n",
       "      <td>0.8710</td>\n",
       "      <td>5.763</td>\n",
       "      <td>3.312</td>\n",
       "      <td>2.221</td>\n",
       "      <td>5.220</td>\n",
       "      <td>1</td>\n",
       "    </tr>\n",
       "    <tr>\n",
       "      <th>1</th>\n",
       "      <td>14.88</td>\n",
       "      <td>14.57</td>\n",
       "      <td>0.8811</td>\n",
       "      <td>5.554</td>\n",
       "      <td>3.333</td>\n",
       "      <td>1.018</td>\n",
       "      <td>4.956</td>\n",
       "      <td>1</td>\n",
       "    </tr>\n",
       "    <tr>\n",
       "      <th>2</th>\n",
       "      <td>14.29</td>\n",
       "      <td>14.09</td>\n",
       "      <td>0.9050</td>\n",
       "      <td>5.291</td>\n",
       "      <td>3.337</td>\n",
       "      <td>2.699</td>\n",
       "      <td>4.825</td>\n",
       "      <td>1</td>\n",
       "    </tr>\n",
       "  </tbody>\n",
       "</table>\n",
       "</div>"
      ],
      "text/plain": [
       "   area_A  perimeter_P  compactness_C  length_of_kernel  width_of_kernel  \\\n",
       "0   15.26        14.84         0.8710             5.763            3.312   \n",
       "1   14.88        14.57         0.8811             5.554            3.333   \n",
       "2   14.29        14.09         0.9050             5.291            3.337   \n",
       "\n",
       "   asymmetry_coefficient  length_of_kernel_groove  classification  \n",
       "0                  2.221                    5.220               1  \n",
       "1                  1.018                    4.956               1  \n",
       "2                  2.699                    4.825               1  "
      ]
     },
     "execution_count": 101,
     "metadata": {},
     "output_type": "execute_result"
    }
   ],
   "source": [
    "colNames = [\"area_A\", \"perimeter_P\", \"compactness_C\", \"length_of_kernel\", \"width_of_kernel\", \\\n",
    "         \"asymmetry_coefficient\", \"length_of_kernel_groove\", \"classification\"]\n",
    "data_2 = pd.read_csv(\"seeds_dataset.txt\", sep='\\t', names=colNames)\n",
    "data_2.head(3)"
   ]
  },
  {
   "cell_type": "code",
   "execution_count": 23,
   "id": "932d737a",
   "metadata": {},
   "outputs": [],
   "source": [
    "# feature selection"
   ]
  },
  {
   "cell_type": "code",
   "execution_count": 25,
   "id": "124507fd",
   "metadata": {},
   "outputs": [],
   "source": [
    "feature_cols = [\"area_A\", \"perimeter_P\", \"compactness_C\", \"length_of_kernel\", \"width_of_kernel\", \\\n",
    "                 \"asymmetry_coefficient\", \"length_of_kernel_groove\"]\n",
    "X = data_2[feature_cols]\n",
    "y = data_2.classification"
   ]
  },
  {
   "cell_type": "code",
   "execution_count": 26,
   "id": "b7ade1b9",
   "metadata": {},
   "outputs": [
    {
     "data": {
      "text/html": [
       "<div>\n",
       "<style scoped>\n",
       "    .dataframe tbody tr th:only-of-type {\n",
       "        vertical-align: middle;\n",
       "    }\n",
       "\n",
       "    .dataframe tbody tr th {\n",
       "        vertical-align: top;\n",
       "    }\n",
       "\n",
       "    .dataframe thead th {\n",
       "        text-align: right;\n",
       "    }\n",
       "</style>\n",
       "<table border=\"1\" class=\"dataframe\">\n",
       "  <thead>\n",
       "    <tr style=\"text-align: right;\">\n",
       "      <th></th>\n",
       "      <th>area_A</th>\n",
       "      <th>perimeter_P</th>\n",
       "      <th>compactness_C</th>\n",
       "      <th>length_of_kernel</th>\n",
       "      <th>width_of_kernel</th>\n",
       "      <th>asymmetry_coefficient</th>\n",
       "      <th>length_of_kernel_groove</th>\n",
       "      <th>classification</th>\n",
       "    </tr>\n",
       "  </thead>\n",
       "  <tbody>\n",
       "    <tr>\n",
       "      <th>area_A</th>\n",
       "      <td>1.000000</td>\n",
       "      <td>0.994341</td>\n",
       "      <td>0.608288</td>\n",
       "      <td>0.949985</td>\n",
       "      <td>0.970771</td>\n",
       "      <td>-0.229572</td>\n",
       "      <td>0.863693</td>\n",
       "      <td>-0.346058</td>\n",
       "    </tr>\n",
       "    <tr>\n",
       "      <th>perimeter_P</th>\n",
       "      <td>0.994341</td>\n",
       "      <td>1.000000</td>\n",
       "      <td>0.529244</td>\n",
       "      <td>0.972422</td>\n",
       "      <td>0.944829</td>\n",
       "      <td>-0.217340</td>\n",
       "      <td>0.890784</td>\n",
       "      <td>-0.327900</td>\n",
       "    </tr>\n",
       "    <tr>\n",
       "      <th>compactness_C</th>\n",
       "      <td>0.608288</td>\n",
       "      <td>0.529244</td>\n",
       "      <td>1.000000</td>\n",
       "      <td>0.367915</td>\n",
       "      <td>0.761635</td>\n",
       "      <td>-0.331471</td>\n",
       "      <td>0.226825</td>\n",
       "      <td>-0.531007</td>\n",
       "    </tr>\n",
       "    <tr>\n",
       "      <th>length_of_kernel</th>\n",
       "      <td>0.949985</td>\n",
       "      <td>0.972422</td>\n",
       "      <td>0.367915</td>\n",
       "      <td>1.000000</td>\n",
       "      <td>0.860415</td>\n",
       "      <td>-0.171562</td>\n",
       "      <td>0.932806</td>\n",
       "      <td>-0.257269</td>\n",
       "    </tr>\n",
       "    <tr>\n",
       "      <th>width_of_kernel</th>\n",
       "      <td>0.970771</td>\n",
       "      <td>0.944829</td>\n",
       "      <td>0.761635</td>\n",
       "      <td>0.860415</td>\n",
       "      <td>1.000000</td>\n",
       "      <td>-0.258037</td>\n",
       "      <td>0.749131</td>\n",
       "      <td>-0.423463</td>\n",
       "    </tr>\n",
       "    <tr>\n",
       "      <th>asymmetry_coefficient</th>\n",
       "      <td>-0.229572</td>\n",
       "      <td>-0.217340</td>\n",
       "      <td>-0.331471</td>\n",
       "      <td>-0.171562</td>\n",
       "      <td>-0.258037</td>\n",
       "      <td>1.000000</td>\n",
       "      <td>-0.011079</td>\n",
       "      <td>0.577273</td>\n",
       "    </tr>\n",
       "    <tr>\n",
       "      <th>length_of_kernel_groove</th>\n",
       "      <td>0.863693</td>\n",
       "      <td>0.890784</td>\n",
       "      <td>0.226825</td>\n",
       "      <td>0.932806</td>\n",
       "      <td>0.749131</td>\n",
       "      <td>-0.011079</td>\n",
       "      <td>1.000000</td>\n",
       "      <td>0.024301</td>\n",
       "    </tr>\n",
       "    <tr>\n",
       "      <th>classification</th>\n",
       "      <td>-0.346058</td>\n",
       "      <td>-0.327900</td>\n",
       "      <td>-0.531007</td>\n",
       "      <td>-0.257269</td>\n",
       "      <td>-0.423463</td>\n",
       "      <td>0.577273</td>\n",
       "      <td>0.024301</td>\n",
       "      <td>1.000000</td>\n",
       "    </tr>\n",
       "  </tbody>\n",
       "</table>\n",
       "</div>"
      ],
      "text/plain": [
       "                           area_A  perimeter_P  compactness_C  \\\n",
       "area_A                   1.000000     0.994341       0.608288   \n",
       "perimeter_P              0.994341     1.000000       0.529244   \n",
       "compactness_C            0.608288     0.529244       1.000000   \n",
       "length_of_kernel         0.949985     0.972422       0.367915   \n",
       "width_of_kernel          0.970771     0.944829       0.761635   \n",
       "asymmetry_coefficient   -0.229572    -0.217340      -0.331471   \n",
       "length_of_kernel_groove  0.863693     0.890784       0.226825   \n",
       "classification          -0.346058    -0.327900      -0.531007   \n",
       "\n",
       "                         length_of_kernel  width_of_kernel  \\\n",
       "area_A                           0.949985         0.970771   \n",
       "perimeter_P                      0.972422         0.944829   \n",
       "compactness_C                    0.367915         0.761635   \n",
       "length_of_kernel                 1.000000         0.860415   \n",
       "width_of_kernel                  0.860415         1.000000   \n",
       "asymmetry_coefficient           -0.171562        -0.258037   \n",
       "length_of_kernel_groove          0.932806         0.749131   \n",
       "classification                  -0.257269        -0.423463   \n",
       "\n",
       "                         asymmetry_coefficient  length_of_kernel_groove  \\\n",
       "area_A                               -0.229572                 0.863693   \n",
       "perimeter_P                          -0.217340                 0.890784   \n",
       "compactness_C                        -0.331471                 0.226825   \n",
       "length_of_kernel                     -0.171562                 0.932806   \n",
       "width_of_kernel                      -0.258037                 0.749131   \n",
       "asymmetry_coefficient                 1.000000                -0.011079   \n",
       "length_of_kernel_groove              -0.011079                 1.000000   \n",
       "classification                        0.577273                 0.024301   \n",
       "\n",
       "                         classification  \n",
       "area_A                        -0.346058  \n",
       "perimeter_P                   -0.327900  \n",
       "compactness_C                 -0.531007  \n",
       "length_of_kernel              -0.257269  \n",
       "width_of_kernel               -0.423463  \n",
       "asymmetry_coefficient          0.577273  \n",
       "length_of_kernel_groove        0.024301  \n",
       "classification                 1.000000  "
      ]
     },
     "execution_count": 26,
     "metadata": {},
     "output_type": "execute_result"
    }
   ],
   "source": [
    "# correlation\n",
    "data_2.corr()"
   ]
  },
  {
   "cell_type": "code",
   "execution_count": null,
   "id": "aa1d2530",
   "metadata": {},
   "outputs": [],
   "source": [
    "# According to the correlation table, \n",
    "# (perimeter_P, area_A, length_of_kernal, width_of_kernal,length_of_kernel_groove)\n",
    "# have high coefficient rate to each other. So I choose one of them as a feature.\n",
    "# (based on which could have the best R-square)"
   ]
  },
  {
   "cell_type": "code",
   "execution_count": 48,
   "id": "06df261a",
   "metadata": {},
   "outputs": [
    {
     "name": "stdout",
     "output_type": "stream",
     "text": [
      "The feature with best r-square: perimeter_P .And its r-square is: 0.4632\n"
     ]
    }
   ],
   "source": [
    "clf = LinearRegression()\n",
    "r_square = []\n",
    "features = [\"area_A\", \"perimeter_P\", \"length_of_kernel\",\\\n",
    "            \"width_of_kernel\", \"length_of_kernel_groove\"]\n",
    "for i in features:\n",
    "    X_fit = data_2[[i, 'compactness_C', 'asymmetry_coefficient']]\n",
    "    r_square.append(round(linearreg.score(X_fit,y),4))\n",
    "\n",
    "best_feature = features[r_square.index(max(r_square))]\n",
    "print(\"The feature with best r-square:\", best_feature, \\\n",
    "      \".And its r-square is:\", r_square[r_square.index(max(r_square))])"
   ]
  },
  {
   "cell_type": "code",
   "execution_count": null,
   "id": "14d8ad65",
   "metadata": {},
   "outputs": [],
   "source": [
    "# Therefore, I choose ['perimeter_P','compactness_C', 'asymmetry_coefficient'] as features for clusters."
   ]
  },
  {
   "cell_type": "markdown",
   "id": "b5c5f889",
   "metadata": {},
   "source": [
    "# perimeter_P vs compactness_C"
   ]
  },
  {
   "cell_type": "code",
   "execution_count": 81,
   "id": "434ff581",
   "metadata": {},
   "outputs": [
    {
     "data": {
      "image/png": "[encoded data removed]",
      "text/plain": [
       "<Figure size 432x288 with 1 Axes>"
      ]
     },
     "metadata": {
      "needs_background": "light"
     },
     "output_type": "display_data"
    }
   ],
   "source": [
    "# Cluster\n",
    "# I would use perimeter and other 2 features to do cluster\n",
    "import matplotlib.pyplot as plt\n",
    "from sklearn.cluster import KMeans\n",
    "plt.scatter(\n",
    "   data_2.perimeter_P, data_2.compactness_C,\n",
    "   c='white', marker='o',\n",
    "   edgecolor='black', s=50\n",
    ")\n",
    "plt.show()"
   ]
  },
  {
   "cell_type": "code",
   "execution_count": 95,
   "id": "ac70c583",
   "metadata": {},
   "outputs": [
    {
     "name": "stderr",
     "output_type": "stream",
     "text": [
      "C:\\Users\\96290\\anaconda3\\lib\\site-packages\\sklearn\\cluster\\_kmeans.py:881: UserWarning: KMeans is known to have a memory leak on Windows with MKL, when there are less chunks than available threads. You can avoid it by setting the environment variable OMP_NUM_THREADS=1.\n",
      "  warnings.warn(\n"
     ]
    },
    {
     "data": {
      "image/png": "[encoded data removed]",
      "text/plain": [
       "<Figure size 432x288 with 1 Axes>"
      ]
     },
     "metadata": {
      "needs_background": "light"
     },
     "output_type": "display_data"
    }
   ],
   "source": [
    "import numpy as np\n",
    "from sklearn.cluster import KMeans\n",
    "from scipy.spatial.distance import cdist\n",
    "import matplotlib.pyplot as plt\n",
    "K = range(1, 10)\n",
    "\n",
    "X_p_c = data_2[['perimeter_P', 'compactness_C']]\n",
    "meandistortions = []\n",
    "for k in K:\n",
    "    kmeans = KMeans(n_clusters=k)\n",
    "    kmeans.fit(X_p_c)\n",
    "    meandistortions.append(sum(np.min(cdist(X_p_c, kmeans.cluster_centers_, 'euclidean'), axis=1))/X_p_c.shape[0])\n",
    "plt.plot(K, meandistortions, 'bx-')\n",
    "plt.xlabel('k')\n",
    "plt.ylabel('Average Dispersion')\n",
    "plt.title('Selecting k with the Elbow Method in features: perimeter_P, compactness_C')\n",
    "plt.show()"
   ]
  },
  {
   "cell_type": "code",
   "execution_count": null,
   "id": "6a8eb1da",
   "metadata": {},
   "outputs": [],
   "source": [
    "# The above graph shows that when the number of clusters is 1 or 2, the average distance of the samples from \n",
    "# their class clusters decreases rapidly, which indicates that changing the K value will change the overall \n",
    "# clustering structure significantly and means that the new number of clusters gives the algorithm more room \n",
    "# for optimization, and such a K value does not reflect the true number of class clusters. In contrast, \n",
    "# when K = 3, the decrease of the average distance has a significant slowdown, indicating that K = 3 is \n",
    "# the relatively optimal number of class clusters."
   ]
  },
  {
   "cell_type": "code",
   "execution_count": 103,
   "id": "3209e6a6",
   "metadata": {},
   "outputs": [
    {
     "data": {
      "image/png": "[encoded data removed]",
      "text/plain": [
       "<Figure size 432x288 with 1 Axes>"
      ]
     },
     "metadata": {
      "needs_background": "light"
     },
     "output_type": "display_data"
    }
   ],
   "source": [
    "kmresult = KMeans(n_clusters=3, random_state=0).fit_predict(data_2)\n",
    "\n",
    "plt.scatter(\n",
    "    data_2.perimeter_P[kmresult == 0], data_2.compactness_C[kmresult == 0],\n",
    "    s=50, c='lightgreen',\n",
    "    marker='s', edgecolor='black',\n",
    "    label='cluster 1'\n",
    ")\n",
    "\n",
    "plt.scatter(\n",
    "    data_2.perimeter_P[kmresult == 1], data_2.compactness_C[kmresult == 1],\n",
    "    s=50, c='orange',\n",
    "    marker='o', edgecolor='black',\n",
    "    label='cluster 2'\n",
    ")\n",
    "\n",
    "plt.scatter(\n",
    "    data_2.perimeter_P[kmresult == 2], data_2.compactness_C[kmresult == 2],\n",
    "    s=50, c='lightblue',\n",
    "    marker='v', edgecolor='black',\n",
    "    label='cluster 3'\n",
    ")\n",
    "plt.title(\"perimeter_P vs compactness_C, k = 3\")\n",
    "plt.legend(scatterpoints=1)\n",
    "plt.show()"
   ]
  },
  {
   "cell_type": "markdown",
   "id": "7b4ba0f2",
   "metadata": {},
   "source": [
    "# perimeter_P vs asymmetry_coefficient"
   ]
  },
  {
   "cell_type": "code",
   "execution_count": 97,
   "id": "c08e59fe",
   "metadata": {},
   "outputs": [
    {
     "data": {
      "image/png": "[encoded data removed]",
      "text/plain": [
       "<Figure size 432x288 with 1 Axes>"
      ]
     },
     "metadata": {
      "needs_background": "light"
     },
     "output_type": "display_data"
    }
   ],
   "source": [
    "import matplotlib.pyplot as plt\n",
    "from sklearn.cluster import KMeans\n",
    "plt.scatter(\n",
    "   data_2.perimeter_P, data_2.asymmetry_coefficient,\n",
    "   c='white', marker='o',\n",
    "   edgecolor='black', s=50\n",
    ")\n",
    "plt.show()"
   ]
  },
  {
   "cell_type": "code",
   "execution_count": 99,
   "id": "7da9856c",
   "metadata": {},
   "outputs": [
    {
     "name": "stderr",
     "output_type": "stream",
     "text": [
      "C:\\Users\\96290\\anaconda3\\lib\\site-packages\\sklearn\\cluster\\_kmeans.py:881: UserWarning: KMeans is known to have a memory leak on Windows with MKL, when there are less chunks than available threads. You can avoid it by setting the environment variable OMP_NUM_THREADS=1.\n",
      "  warnings.warn(\n"
     ]
    },
    {
     "data": {
      "image/png": "[encoded data removed]",
      "text/plain": [
       "<Figure size 432x288 with 1 Axes>"
      ]
     },
     "metadata": {
      "needs_background": "light"
     },
     "output_type": "display_data"
    }
   ],
   "source": [
    "import numpy as np\n",
    "from sklearn.cluster import KMeans\n",
    "from scipy.spatial.distance import cdist\n",
    "import matplotlib.pyplot as plt\n",
    "K = range(1, 14)\n",
    "\n",
    "X_p_a = data_2[['perimeter_P', 'asymmetry_coefficient']]\n",
    "meandistortions = []\n",
    "for k in K:\n",
    "    kmeans = KMeans(n_clusters=k)\n",
    "    kmeans.fit(X_p_a)\n",
    "    meandistortions.append(sum(np.min(cdist(X_p_a, kmeans.cluster_centers_, 'euclidean'), axis=1))/X_p_a.shape[0])\n",
    "plt.plot(K, meandistortions, 'bx-')\n",
    "plt.xlabel('k')\n",
    "plt.ylabel('Average Dispersion')\n",
    "plt.title('Selecting k with the Elbow Method in features: perimeter_P, asymmetry_coefficient')\n",
    "plt.show()"
   ]
  },
  {
   "cell_type": "code",
   "execution_count": null,
   "id": "2abc43c9",
   "metadata": {},
   "outputs": [],
   "source": [
    "# k = 3 also is the elbow of the plot. I choose 3."
   ]
  },
  {
   "cell_type": "code",
   "execution_count": 104,
   "id": "ac26e7a8",
   "metadata": {},
   "outputs": [
    {
     "data": {
      "image/png": "[encoded data removed]",
      "text/plain": [
       "<Figure size 432x288 with 1 Axes>"
      ]
     },
     "metadata": {
      "needs_background": "light"
     },
     "output_type": "display_data"
    }
   ],
   "source": [
    "kmresult = KMeans(n_clusters=3, random_state=0).fit_predict(data_2)\n",
    "\n",
    "plt.scatter(\n",
    "    data_2.perimeter_P[kmresult == 0], data_2.asymmetry_coefficient[kmresult == 0],\n",
    "    s=50, c='lightgreen',\n",
    "    marker='s', edgecolor='black',\n",
    "    label='cluster 1'\n",
    ")\n",
    "\n",
    "plt.scatter(\n",
    "    data_2.perimeter_P[kmresult == 1], data_2.asymmetry_coefficient[kmresult == 1],\n",
    "    s=50, c='orange',\n",
    "    marker='o', edgecolor='black',\n",
    "    label='cluster 2'\n",
    ")\n",
    "\n",
    "plt.scatter(\n",
    "    data_2.perimeter_P[kmresult == 2], data_2.asymmetry_coefficient[kmresult == 2],\n",
    "    s=50, c='lightblue',\n",
    "    marker='v', edgecolor='black',\n",
    "    label='cluster 3'\n",
    ")\n",
    "plt.title(\"perimeter_P vs asymmetry_coefficient, k = 3\")\n",
    "plt.legend(scatterpoints=1)\n",
    "plt.show()"
   ]
  },
  {
   "cell_type": "code",
   "execution_count": null,
   "id": "c9c0b97c",
   "metadata": {},
   "outputs": [],
   "source": [
    "# task 2.b"
   ]
  },
  {
   "cell_type": "code",
   "execution_count": 108,
   "id": "903adf1b",
   "metadata": {},
   "outputs": [
    {
     "data": {
      "image/png": "[encoded data removed]",
      "text/plain": [
       "<Figure size 432x288 with 1 Axes>"
      ]
     },
     "metadata": {
      "needs_background": "light"
     },
     "output_type": "display_data"
    }
   ],
   "source": [
    "kmresult = KMeans(n_clusters=3, random_state=0).fit_predict(data_2)\n",
    "\n",
    "plt.scatter(\n",
    "    data_2.compactness_C[kmresult == 0], data_2.asymmetry_coefficient[kmresult == 0],\n",
    "    s=50, c='lightgreen',\n",
    "    marker='s', edgecolor='black',\n",
    "    label='cluster 1'\n",
    ")\n",
    "\n",
    "plt.scatter(\n",
    "    data_2.compactness_C[kmresult == 1], data_2.asymmetry_coefficient[kmresult == 1],\n",
    "    s=50, c='orange',\n",
    "    marker='o', edgecolor='black',\n",
    "    label='cluster 2'\n",
    ")\n",
    "\n",
    "plt.scatter(\n",
    "    data_2.compactness_C[kmresult == 2], data_2.asymmetry_coefficient[kmresult == 2],\n",
    "    s=50, c='lightblue',\n",
    "    marker='v', edgecolor='black',\n",
    "    label='cluster 3'\n",
    ")\n",
    "plt.title(\"compactness_C vs asymmetry_coefficient, k = 3\")\n",
    "plt.legend(scatterpoints=1)\n",
    "plt.show()"
   ]
  },
  {
   "cell_type": "code",
   "execution_count": 109,
   "id": "95d834db",
   "metadata": {},
   "outputs": [
    {
     "data": {
      "text/html": [
       "<div>\n",
       "<style scoped>\n",
       "    .dataframe tbody tr th:only-of-type {\n",
       "        vertical-align: middle;\n",
       "    }\n",
       "\n",
       "    .dataframe tbody tr th {\n",
       "        vertical-align: top;\n",
       "    }\n",
       "\n",
       "    .dataframe thead th {\n",
       "        text-align: right;\n",
       "    }\n",
       "</style>\n",
       "<table border=\"1\" class=\"dataframe\">\n",
       "  <thead>\n",
       "    <tr style=\"text-align: right;\">\n",
       "      <th></th>\n",
       "      <th>sepal length (cm)</th>\n",
       "      <th>sepal width (cm)</th>\n",
       "      <th>petal length (cm)</th>\n",
       "      <th>petal width (cm)</th>\n",
       "    </tr>\n",
       "  </thead>\n",
       "  <tbody>\n",
       "    <tr>\n",
       "      <th>0</th>\n",
       "      <td>-0.900681</td>\n",
       "      <td>1.019004</td>\n",
       "      <td>-1.340227</td>\n",
       "      <td>-1.315444</td>\n",
       "    </tr>\n",
       "    <tr>\n",
       "      <th>1</th>\n",
       "      <td>-1.143017</td>\n",
       "      <td>-0.131979</td>\n",
       "      <td>-1.340227</td>\n",
       "      <td>-1.315444</td>\n",
       "    </tr>\n",
       "    <tr>\n",
       "      <th>2</th>\n",
       "      <td>-1.385353</td>\n",
       "      <td>0.328414</td>\n",
       "      <td>-1.397064</td>\n",
       "      <td>-1.315444</td>\n",
       "    </tr>\n",
       "    <tr>\n",
       "      <th>3</th>\n",
       "      <td>-1.506521</td>\n",
       "      <td>0.098217</td>\n",
       "      <td>-1.283389</td>\n",
       "      <td>-1.315444</td>\n",
       "    </tr>\n",
       "    <tr>\n",
       "      <th>4</th>\n",
       "      <td>-1.021849</td>\n",
       "      <td>1.249201</td>\n",
       "      <td>-1.340227</td>\n",
       "      <td>-1.315444</td>\n",
       "    </tr>\n",
       "    <tr>\n",
       "      <th>...</th>\n",
       "      <td>...</td>\n",
       "      <td>...</td>\n",
       "      <td>...</td>\n",
       "      <td>...</td>\n",
       "    </tr>\n",
       "    <tr>\n",
       "      <th>145</th>\n",
       "      <td>1.038005</td>\n",
       "      <td>-0.131979</td>\n",
       "      <td>0.819596</td>\n",
       "      <td>1.448832</td>\n",
       "    </tr>\n",
       "    <tr>\n",
       "      <th>146</th>\n",
       "      <td>0.553333</td>\n",
       "      <td>-1.282963</td>\n",
       "      <td>0.705921</td>\n",
       "      <td>0.922303</td>\n",
       "    </tr>\n",
       "    <tr>\n",
       "      <th>147</th>\n",
       "      <td>0.795669</td>\n",
       "      <td>-0.131979</td>\n",
       "      <td>0.819596</td>\n",
       "      <td>1.053935</td>\n",
       "    </tr>\n",
       "    <tr>\n",
       "      <th>148</th>\n",
       "      <td>0.432165</td>\n",
       "      <td>0.788808</td>\n",
       "      <td>0.933271</td>\n",
       "      <td>1.448832</td>\n",
       "    </tr>\n",
       "    <tr>\n",
       "      <th>149</th>\n",
       "      <td>0.068662</td>\n",
       "      <td>-0.131979</td>\n",
       "      <td>0.762758</td>\n",
       "      <td>0.790671</td>\n",
       "    </tr>\n",
       "  </tbody>\n",
       "</table>\n",
       "<p>150 rows × 4 columns</p>\n",
       "</div>"
      ],
      "text/plain": [
       "     sepal length (cm)  sepal width (cm)  petal length (cm)  petal width (cm)\n",
       "0            -0.900681          1.019004          -1.340227         -1.315444\n",
       "1            -1.143017         -0.131979          -1.340227         -1.315444\n",
       "2            -1.385353          0.328414          -1.397064         -1.315444\n",
       "3            -1.506521          0.098217          -1.283389         -1.315444\n",
       "4            -1.021849          1.249201          -1.340227         -1.315444\n",
       "..                 ...               ...                ...               ...\n",
       "145           1.038005         -0.131979           0.819596          1.448832\n",
       "146           0.553333         -1.282963           0.705921          0.922303\n",
       "147           0.795669         -0.131979           0.819596          1.053935\n",
       "148           0.432165          0.788808           0.933271          1.448832\n",
       "149           0.068662         -0.131979           0.762758          0.790671\n",
       "\n",
       "[150 rows x 4 columns]"
      ]
     },
     "execution_count": 109,
     "metadata": {},
     "output_type": "execute_result"
    }
   ],
   "source": [
    "# Task 3\n",
    "# Part a\n",
    "# scaling - standardize/normalize\n",
    "from sklearn import datasets\n",
    "from sklearn import preprocessing\n",
    "\n",
    "iris = datasets.load_iris()\n",
    "scaled_data = pd.DataFrame(preprocessing.StandardScaler().fit_transform(iris.data), columns=iris.feature_names)\n",
    "scaled_data"
   ]
  },
  {
   "cell_type": "code",
   "execution_count": 110,
   "id": "9b0a0932",
   "metadata": {},
   "outputs": [],
   "source": [
    "# Part b\n",
    "# Create a function to subset the data to include only 10th row data.\n",
    "def subset_10(data):\n",
    "    my_list = []\n",
    "    for i in range(data.shape[0]):\n",
    "        if i % 10 == 0:\n",
    "            my_list.append(i)\n",
    "\n",
    "    return data.loc[my_list]"
   ]
  },
  {
   "cell_type": "code",
   "execution_count": 111,
   "id": "9c56a2db",
   "metadata": {},
   "outputs": [
    {
     "data": {
      "text/html": [
       "<div>\n",
       "<style scoped>\n",
       "    .dataframe tbody tr th:only-of-type {\n",
       "        vertical-align: middle;\n",
       "    }\n",
       "\n",
       "    .dataframe tbody tr th {\n",
       "        vertical-align: top;\n",
       "    }\n",
       "\n",
       "    .dataframe thead th {\n",
       "        text-align: right;\n",
       "    }\n",
       "</style>\n",
       "<table border=\"1\" class=\"dataframe\">\n",
       "  <thead>\n",
       "    <tr style=\"text-align: right;\">\n",
       "      <th></th>\n",
       "      <th>sepal length (cm)</th>\n",
       "      <th>sepal width (cm)</th>\n",
       "      <th>petal length (cm)</th>\n",
       "      <th>petal width (cm)</th>\n",
       "    </tr>\n",
       "  </thead>\n",
       "  <tbody>\n",
       "    <tr>\n",
       "      <th>0</th>\n",
       "      <td>-0.900681</td>\n",
       "      <td>1.019004</td>\n",
       "      <td>-1.340227</td>\n",
       "      <td>-1.315444</td>\n",
       "    </tr>\n",
       "    <tr>\n",
       "      <th>10</th>\n",
       "      <td>-0.537178</td>\n",
       "      <td>1.479398</td>\n",
       "      <td>-1.283389</td>\n",
       "      <td>-1.315444</td>\n",
       "    </tr>\n",
       "    <tr>\n",
       "      <th>20</th>\n",
       "      <td>-0.537178</td>\n",
       "      <td>0.788808</td>\n",
       "      <td>-1.169714</td>\n",
       "      <td>-1.315444</td>\n",
       "    </tr>\n",
       "    <tr>\n",
       "      <th>30</th>\n",
       "      <td>-1.264185</td>\n",
       "      <td>0.098217</td>\n",
       "      <td>-1.226552</td>\n",
       "      <td>-1.315444</td>\n",
       "    </tr>\n",
       "    <tr>\n",
       "      <th>40</th>\n",
       "      <td>-1.021849</td>\n",
       "      <td>1.019004</td>\n",
       "      <td>-1.397064</td>\n",
       "      <td>-1.183812</td>\n",
       "    </tr>\n",
       "    <tr>\n",
       "      <th>50</th>\n",
       "      <td>1.401508</td>\n",
       "      <td>0.328414</td>\n",
       "      <td>0.535409</td>\n",
       "      <td>0.264142</td>\n",
       "    </tr>\n",
       "    <tr>\n",
       "      <th>60</th>\n",
       "      <td>-1.021849</td>\n",
       "      <td>-2.433947</td>\n",
       "      <td>-0.146641</td>\n",
       "      <td>-0.262387</td>\n",
       "    </tr>\n",
       "    <tr>\n",
       "      <th>70</th>\n",
       "      <td>0.068662</td>\n",
       "      <td>0.328414</td>\n",
       "      <td>0.592246</td>\n",
       "      <td>0.790671</td>\n",
       "    </tr>\n",
       "    <tr>\n",
       "      <th>80</th>\n",
       "      <td>-0.416010</td>\n",
       "      <td>-1.513160</td>\n",
       "      <td>0.023872</td>\n",
       "      <td>-0.130755</td>\n",
       "    </tr>\n",
       "    <tr>\n",
       "      <th>90</th>\n",
       "      <td>-0.416010</td>\n",
       "      <td>-1.052767</td>\n",
       "      <td>0.364896</td>\n",
       "      <td>0.000878</td>\n",
       "    </tr>\n",
       "    <tr>\n",
       "      <th>100</th>\n",
       "      <td>0.553333</td>\n",
       "      <td>0.558611</td>\n",
       "      <td>1.274295</td>\n",
       "      <td>1.712096</td>\n",
       "    </tr>\n",
       "    <tr>\n",
       "      <th>110</th>\n",
       "      <td>0.795669</td>\n",
       "      <td>0.328414</td>\n",
       "      <td>0.762758</td>\n",
       "      <td>1.053935</td>\n",
       "    </tr>\n",
       "    <tr>\n",
       "      <th>120</th>\n",
       "      <td>1.280340</td>\n",
       "      <td>0.328414</td>\n",
       "      <td>1.103783</td>\n",
       "      <td>1.448832</td>\n",
       "    </tr>\n",
       "    <tr>\n",
       "      <th>130</th>\n",
       "      <td>1.886180</td>\n",
       "      <td>-0.592373</td>\n",
       "      <td>1.331133</td>\n",
       "      <td>0.922303</td>\n",
       "    </tr>\n",
       "    <tr>\n",
       "      <th>140</th>\n",
       "      <td>1.038005</td>\n",
       "      <td>0.098217</td>\n",
       "      <td>1.046945</td>\n",
       "      <td>1.580464</td>\n",
       "    </tr>\n",
       "  </tbody>\n",
       "</table>\n",
       "</div>"
      ],
      "text/plain": [
       "     sepal length (cm)  sepal width (cm)  petal length (cm)  petal width (cm)\n",
       "0            -0.900681          1.019004          -1.340227         -1.315444\n",
       "10           -0.537178          1.479398          -1.283389         -1.315444\n",
       "20           -0.537178          0.788808          -1.169714         -1.315444\n",
       "30           -1.264185          0.098217          -1.226552         -1.315444\n",
       "40           -1.021849          1.019004          -1.397064         -1.183812\n",
       "50            1.401508          0.328414           0.535409          0.264142\n",
       "60           -1.021849         -2.433947          -0.146641         -0.262387\n",
       "70            0.068662          0.328414           0.592246          0.790671\n",
       "80           -0.416010         -1.513160           0.023872         -0.130755\n",
       "90           -0.416010         -1.052767           0.364896          0.000878\n",
       "100           0.553333          0.558611           1.274295          1.712096\n",
       "110           0.795669          0.328414           0.762758          1.053935\n",
       "120           1.280340          0.328414           1.103783          1.448832\n",
       "130           1.886180         -0.592373           1.331133          0.922303\n",
       "140           1.038005          0.098217           1.046945          1.580464"
      ]
     },
     "execution_count": 111,
     "metadata": {},
     "output_type": "execute_result"
    }
   ],
   "source": [
    "# Then implement it in iris data.\n",
    "iris_10th = subset_10(scaled_data)\n",
    "iris_10th"
   ]
  },
  {
   "cell_type": "code",
   "execution_count": 112,
   "id": "be273eb4",
   "metadata": {},
   "outputs": [
    {
     "name": "stdout",
     "output_type": "stream",
     "text": [
      "Pairwise distance matrix with Manhattan distance:\n",
      " [[0.         0.88073457 0.76421266 1.39796553 0.30963748 6.44800114\n",
      "  5.8207628  5.69852073 5.56562382 5.57788703 7.55646985 6.8593046\n",
      "  8.07989719 9.30734458 8.14255298]\n",
      " [0.88073457 0.         0.80426515 2.16502525 1.19037205 6.48805363\n",
      "  6.58782252 5.73857322 5.60567631 5.61793952 7.59652235 6.89935709\n",
      "  8.11994969 9.34739708 8.18260547]\n",
      " [0.76421266 0.80426515 0.         1.47443495 1.07385014 5.68378848\n",
      "  5.78355737 4.93430807 4.80141116 4.81367437 6.7922572  6.09509194\n",
      "  7.31568454 8.54313192 7.37834032]\n",
      " [1.39796553 2.16502525 1.47443495 0.         1.46526727 6.23743636\n",
      "  4.90746876 5.48795595 4.89466551 4.90692872 7.80629861 6.64873982\n",
      "  7.86933242 8.63638627 7.47159467]\n",
      " [0.30963748 1.19037205 1.07385014 1.46526727 0.         6.49437425\n",
      "  5.62480018 5.74489384 5.61199693 5.62426014 7.60284297 6.90567771\n",
      "  8.12627031 9.35371769 8.18892609]\n",
      " [6.44800114 6.48805363 5.68378848 6.23743636 6.49437425 0.\n",
      "  6.39429646 1.91621274 4.56552558 3.6324753  3.26521244 1.62298217\n",
      "  1.8742318  2.85934345 2.42155906]\n",
      " [5.8207628  6.58782252 5.78355737 4.90746876 5.62480018 6.39429646\n",
      "  0.         5.64481605 1.82877088 2.76182116 7.96315871 6.80559993\n",
      "  8.02619252 7.41206578 7.62845477]\n",
      " [5.69852073 5.73857322 4.93430807 5.48795595 5.74489384 1.91621274\n",
      "  5.64481605 0.         3.81604517 2.88299489 2.31834266 1.16078387\n",
      "  2.38137647 3.60882386 2.44403225]\n",
      " [5.56562382 5.60567631 4.80141116 4.89466551 5.61199693 4.56552558\n",
      "  1.82877088 3.81604517 0.         0.93305028 6.13438783 4.97682904\n",
      "  6.19742164 5.5832949  5.79968389]\n",
      " [5.57788703 5.61793952 4.81367437 4.90692872 5.62426014 3.6324753\n",
      "  2.76182116 2.88299489 0.93305028 0.         5.20133755 4.04377876\n",
      "  5.26437136 4.65024462 4.86663361]\n",
      " [7.55646985 7.59652235 6.7922572  7.80629861 7.60284297 3.26521244\n",
      "  7.96315871 2.31834266 6.13438783 5.20133755 0.         1.64223027\n",
      "  1.39098064 3.33046094 1.30404691]\n",
      " [6.8593046  6.89935709 6.09509194 6.64873982 6.90567771 1.62298217\n",
      "  6.80559993 1.16078387 4.97682904 4.04377876 1.64223027 0.\n",
      "  1.2205926  2.71130435 1.28324838]\n",
      " [8.07989719 8.11994969 7.31568454 7.86933242 8.12627031 1.8742318\n",
      "  8.02619252 2.38137647 6.19742164 5.26437136 1.39098064 1.2205926\n",
      "  0.         2.28050486 0.66100212]\n",
      " [9.30734458 9.34739708 8.54313192 8.63638627 9.35371769 2.85934345\n",
      "  7.41206578 3.60882386 5.5832949  4.65024462 3.33046094 2.71130435\n",
      "  2.28050486 0.         2.48111345]\n",
      " [8.14255298 8.18260547 7.37834032 7.47159467 8.18892609 2.42155906\n",
      "  7.62845477 2.44403225 5.79968389 4.86663361 1.30404691 1.28324838\n",
      "  0.66100212 2.48111345 0.        ]]\n"
     ]
    }
   ],
   "source": [
    "# Part c & d\n",
    "from sklearn.metrics.pairwise import euclidean_distances\n",
    "from sklearn.metrics.pairwise import manhattan_distances\n",
    "print(\"Pairwise distance matrix with Manhattan distance:\\n\", manhattan_distances(iris_10th))"
   ]
  },
  {
   "cell_type": "code",
   "execution_count": 113,
   "id": "e48a60b9",
   "metadata": {},
   "outputs": [
    {
     "name": "stdout",
     "output_type": "stream",
     "text": [
      "Pairwise distance matrix with Euclidean distance:\n",
      " [[0.         0.58934504 0.46281731 0.99644652 0.18772101 3.43367023\n",
      "  3.80409426 3.09624142 3.14817673 3.02775297 4.28110307 3.65937458\n",
      "  4.3414483  4.74413352 4.32333497]\n",
      " [0.58934504 0.         0.69988351 1.56186742 0.69073704 3.29945214\n",
      "  4.23677979 3.10572572 3.47598982 3.29789118 4.21245903 3.59192444\n",
      "  4.23886147 4.69128249 4.26680226]\n",
      " [0.46281731 0.69988351 0.         1.00433309 0.59742106 3.06153584\n",
      "  3.57444601 2.84942583 2.85339689 2.73748235 4.0473925  3.36702399\n",
      "  4.04046336 4.36372179 4.03211827]\n",
      " [0.99644652 1.56186742 1.00433309 0.         0.97620536 3.57190523\n",
      "  2.95731658 3.09406135 2.50658857 2.51188665 4.35150188 3.72388246\n",
      "  4.42710734 4.68518655 4.34225161]\n",
      " [0.18772101 0.69073704 0.59742106 0.97620536 0.         3.4900712\n",
      "  3.78621939 3.08578435 3.14752065 3.02774989 4.26797426 3.66778286\n",
      "  4.35454235 4.78873108 4.32495657]\n",
      " [3.43367023 3.29945214 3.06153584 3.57190523 3.4900712  0.\n",
      "  3.77435081 1.43420466 2.66690465 2.30421663 1.84794906 1.02103005\n",
      "  1.31955316 1.46598353 1.47631249]\n",
      " [3.80409426 4.23677979 3.57444601 2.95731658 3.78621939 3.77435081\n",
      "  0.         3.23646978 1.1230724  1.61421164 4.16584239 3.67338001\n",
      "  4.174032   3.92878228 3.93390392]\n",
      " [3.09624142 3.10572572 2.84942583 3.09406135 3.08578435 1.43420466\n",
      "  3.23646978 0.         2.19051948 1.67869811 1.26574585 0.7917841\n",
      "  1.47071786 2.17129019 1.3502374 ]\n",
      " [3.14817673 3.47598982 2.85339689 2.50658857 3.14752065 2.66690465\n",
      "  1.1230724  2.19051948 0.         0.58786647 3.1924156  2.60940673\n",
      "  3.15123783 2.9942923  2.94714153]\n",
      " [3.02775297 3.29789118 2.73748235 2.51188665 3.02774989 2.30421663\n",
      "  1.61421164 1.67869811 0.58786647 0.         2.70026618 2.15477361\n",
      "  2.72539685 2.70086578 2.52966508]\n",
      " [4.28110307 4.21245903 4.0473925  4.35150188 4.26797426 1.84794906\n",
      "  4.16584239 1.26574585 3.1924156  2.70026618 0.         0.89808847\n",
      "  0.82456814 1.93086701 0.71825035]\n",
      " [3.65937458 3.59192444 3.36702399 3.72388246 3.66778286 1.02103005\n",
      "  3.67338001 0.7917841  2.60940673 2.15477361 0.89808847 0.\n",
      "  0.71214288 1.54189463 0.68535538]\n",
      " [4.3414483  4.23886147 4.04046336 4.42710734 4.35454235 1.31955316\n",
      "  4.174032   1.47071786 3.15123783 2.72539685 0.82456814 0.71214288\n",
      "  0.         1.24250173 0.36369587]\n",
      " [4.74413352 4.69128249 4.36372179 4.68518655 4.78873108 1.46598353\n",
      "  3.92878228 2.17129019 2.9942923  2.70086578 1.93086701 1.54189463\n",
      "  1.24250173 0.         1.30776683]\n",
      " [4.32333497 4.26680226 4.03211827 4.34225161 4.32495657 1.47631249\n",
      "  3.93390392 1.3502374  2.94714153 2.52966508 0.71825035 0.68535538\n",
      "  0.36369587 1.30776683 0.        ]]\n"
     ]
    }
   ],
   "source": [
    "print(\"Pairwise distance matrix with Euclidean distance:\\n\", euclidean_distances(iris_10th))"
   ]
  },
  {
   "cell_type": "code",
   "execution_count": null,
   "id": "b60a9afa",
   "metadata": {},
   "outputs": [],
   "source": []
  }
 ],
 "metadata": {
  "kernelspec": {
   "display_name": "Python 3",
   "language": "python",
   "name": "python3"
  },
  "language_info": {
   "codemirror_mode": {
    "name": "ipython",
    "version": 3
   },
   "file_extension": ".py",
   "mimetype": "text/x-python",
   "name": "python",
   "nbconvert_exporter": "python",
   "pygments_lexer": "ipython3",
   "version": "3.8.8"
  }
 },
 "nbformat": 4,
 "nbformat_minor": 5
}
